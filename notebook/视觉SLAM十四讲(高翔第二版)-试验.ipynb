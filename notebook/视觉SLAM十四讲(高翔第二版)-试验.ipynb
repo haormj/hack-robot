{
 "cells": [
  {
   "cell_type": "markdown",
   "id": "7af52504",
   "metadata": {},
   "source": [
    "## 视觉SLAM十四讲(高翔第二版)-试验 python版本\n",
    "\n",
    "\n",
    "### 概述\n",
    "\n",
    "本文主要是视觉SLAM试验的python版本，具体的书籍见book目录"
   ]
  },
  {
   "cell_type": "markdown",
   "id": "be7af12e",
   "metadata": {},
   "source": [
    "### 3.2 实践:Eigen"
   ]
  },
  {
   "cell_type": "code",
   "execution_count": 1,
   "id": "3a4436e9",
   "metadata": {},
   "outputs": [
    {
     "data": {
      "text/plain": [
       "array([[1, 2, 3],\n",
       "       [4, 5, 6]])"
      ]
     },
     "execution_count": 1,
     "metadata": {},
     "output_type": "execute_result"
    }
   ],
   "source": [
    "import numpy as np\n",
    "\n",
    "matrix_23 = np.array([[1, 2, 3], [4, 5, 6]])\n",
    "matrix_23"
   ]
  },
  {
   "cell_type": "code",
   "execution_count": 11,
   "id": "c8771b6d",
   "metadata": {},
   "outputs": [
    {
     "name": "stdout",
     "output_type": "stream",
     "text": [
      "1 2 3 \n",
      "4 5 6 \n"
     ]
    }
   ],
   "source": [
    "for i in range(0, 2):\n",
    "    for j in range (0, 3):\n",
    "        print(matrix_23[i][j], end=\" \")\n",
    "    print()"
   ]
  },
  {
   "cell_type": "code",
   "execution_count": 12,
   "id": "a90800a5",
   "metadata": {},
   "outputs": [
    {
     "data": {
      "text/plain": [
       "array([14, 32])"
      ]
     },
     "execution_count": 12,
     "metadata": {},
     "output_type": "execute_result"
    }
   ],
   "source": [
    "v_3d = np.array([1, 2, 3])\n",
    "np.matmul(matrix_23, v_3d)"
   ]
  },
  {
   "cell_type": "code",
   "execution_count": 32,
   "id": "09065cbf",
   "metadata": {},
   "outputs": [
    {
     "data": {
      "text/plain": [
       "array([[1, 3, 1],\n",
       "       [1, 1, 2],\n",
       "       [2, 4, 2]])"
      ]
     },
     "execution_count": 32,
     "metadata": {},
     "output_type": "execute_result"
    }
   ],
   "source": [
    "matrix_33 = np.random.randint(1, 5, size=(3, 3))\n",
    "matrix_33"
   ]
  },
  {
   "cell_type": "code",
   "execution_count": 33,
   "id": "255c845c",
   "metadata": {},
   "outputs": [
    {
     "data": {
      "text/plain": [
       "array([[1, 1, 2],\n",
       "       [3, 1, 4],\n",
       "       [1, 2, 2]])"
      ]
     },
     "execution_count": 33,
     "metadata": {},
     "output_type": "execute_result"
    }
   ],
   "source": [
    "np.transpose(matrix_33)"
   ]
  },
  {
   "cell_type": "code",
   "execution_count": 34,
   "id": "eab58952",
   "metadata": {},
   "outputs": [
    {
     "data": {
      "text/plain": [
       "17"
      ]
     },
     "execution_count": 34,
     "metadata": {},
     "output_type": "execute_result"
    }
   ],
   "source": [
    "np.sum(matrix_33)"
   ]
  },
  {
   "cell_type": "code",
   "execution_count": 35,
   "id": "2ed5073f",
   "metadata": {},
   "outputs": [
    {
     "data": {
      "text/plain": [
       "4"
      ]
     },
     "execution_count": 35,
     "metadata": {},
     "output_type": "execute_result"
    }
   ],
   "source": [
    "np.trace(matrix_33)"
   ]
  },
  {
   "cell_type": "code",
   "execution_count": 36,
   "id": "94f4af06",
   "metadata": {},
   "outputs": [
    {
     "data": {
      "text/plain": [
       "array([[10, 30, 10],\n",
       "       [10, 10, 20],\n",
       "       [20, 40, 20]])"
      ]
     },
     "execution_count": 36,
     "metadata": {},
     "output_type": "execute_result"
    }
   ],
   "source": [
    "10 * matrix_33"
   ]
  },
  {
   "cell_type": "code",
   "execution_count": 38,
   "id": "f658b8f5",
   "metadata": {},
   "outputs": [
    {
     "data": {
      "text/plain": [
       "array([[-3. , -1. ,  2.5],\n",
       "       [ 1. , -0. , -0.5],\n",
       "       [ 1. ,  1. , -1. ]])"
      ]
     },
     "execution_count": 38,
     "metadata": {},
     "output_type": "execute_result"
    }
   ],
   "source": [
    "np.linalg.inv(matrix_33)"
   ]
  },
  {
   "cell_type": "code",
   "execution_count": 39,
   "id": "ca7b55cb",
   "metadata": {},
   "outputs": [
    {
     "data": {
      "text/plain": [
       "2.0"
      ]
     },
     "execution_count": 39,
     "metadata": {},
     "output_type": "execute_result"
    }
   ],
   "source": [
    "np.linalg.det(matrix_33)"
   ]
  },
  {
   "cell_type": "code",
   "execution_count": 45,
   "id": "5675feed",
   "metadata": {},
   "outputs": [
    {
     "data": {
      "text/plain": [
       "(array([ 5.51604587, -0.29756642, -1.21847945]),\n",
       " array([[-0.46393107, -0.91538272,  0.69265906],\n",
       "        [-0.44258071,  0.31051093, -0.62954589],\n",
       "        [-0.76739186,  0.25623708,  0.35198778]]))"
      ]
     },
     "execution_count": 45,
     "metadata": {},
     "output_type": "execute_result"
    }
   ],
   "source": [
    "np.linalg.eig(matrix_33)"
   ]
  },
  {
   "cell_type": "code",
   "execution_count": 48,
   "id": "9fff6ee9",
   "metadata": {},
   "outputs": [
    {
     "data": {
      "text/plain": [
       "array([[5, 8, 3, ..., 9, 4, 9],\n",
       "       [9, 1, 1, ..., 3, 2, 1],\n",
       "       [8, 4, 9, ..., 4, 8, 7],\n",
       "       ...,\n",
       "       [2, 6, 8, ..., 6, 1, 3],\n",
       "       [1, 4, 6, ..., 6, 9, 2],\n",
       "       [5, 6, 6, ..., 3, 1, 1]])"
      ]
     },
     "execution_count": 48,
     "metadata": {},
     "output_type": "execute_result"
    }
   ],
   "source": [
    "matrix_nn = np.random.randint(1, 10, size=(50, 50))\n",
    "matrix_nn"
   ]
  },
  {
   "cell_type": "code",
   "execution_count": 57,
   "id": "37c8228a",
   "metadata": {},
   "outputs": [
    {
     "name": "stdout",
     "output_type": "stream",
     "text": [
      "[9 1 8 8 3 2 2 8 5 7 1 8 1 3 5 8 4 3 8 4 1 6 5 1 8 3 9 7 4 8 8 6 8 3 5 9 2\n",
      " 6 3 1 6 8 8 4 5 8 4 3 2 5]\n",
      "(50,)\n"
     ]
    }
   ],
   "source": [
    "v_nd = np.random.randint(1, 10, size=50)\n",
    "print(v_nd)\n",
    "print(v_nd.shape)"
   ]
  },
  {
   "cell_type": "code",
   "execution_count": 60,
   "id": "474594d3",
   "metadata": {},
   "outputs": [
    {
     "name": "stdout",
     "output_type": "stream",
     "text": [
      "0.04220008850097656\n",
      "(50,)\n",
      "[ 0.40453479  0.21081333  0.15775043  0.13305694  0.36762567  0.2496835\n",
      "  0.03652863 -0.11186222  0.37185061 -0.09419048  0.21041235 -0.52965271\n",
      " -0.27828885  0.11931321  0.29507741  0.56328278 -0.38263062  0.03736046\n",
      "  0.15515711 -0.45983229 -0.49846434 -0.21536684  0.30243571  0.32614368\n",
      "  0.08867983  0.14434343  0.02491098 -0.14299174 -0.19563341 -0.02892861\n",
      "  0.08015624  0.16616452 -0.09386843 -0.23505035 -0.10921711 -0.07164552\n",
      " -0.31599832  0.23173916  0.15070496 -0.08802361 -0.05365585  0.07396251\n",
      " -0.36141757 -0.22000057  0.71672327 -0.11157175 -0.28157426  0.35841282\n",
      " -0.47766384  0.29592338]\n"
     ]
    }
   ],
   "source": [
    "import time\n",
    "\n",
    "start = time.time()\n",
    "x = np.matmul(np.linalg.inv(matrix_nn), v_nd)\n",
    "end = time.time()\n",
    "print(end - start)\n",
    "print(x.shape)\n",
    "print(x)"
   ]
  },
  {
   "cell_type": "code",
   "execution_count": 62,
   "id": "520d9715",
   "metadata": {},
   "outputs": [
    {
     "name": "stdout",
     "output_type": "stream",
     "text": [
      "0.04405784606933594\n",
      "(50,)\n",
      "[ 0.40453479  0.21081333  0.15775043  0.13305694  0.36762567  0.2496835\n",
      "  0.03652863 -0.11186222  0.37185061 -0.09419048  0.21041235 -0.52965271\n",
      " -0.27828885  0.11931321  0.29507741  0.56328278 -0.38263062  0.03736046\n",
      "  0.15515711 -0.45983229 -0.49846434 -0.21536684  0.30243571  0.32614368\n",
      "  0.08867983  0.14434343  0.02491098 -0.14299174 -0.19563341 -0.02892861\n",
      "  0.08015624  0.16616452 -0.09386843 -0.23505035 -0.10921711 -0.07164552\n",
      " -0.31599832  0.23173916  0.15070496 -0.08802361 -0.05365585  0.07396251\n",
      " -0.36141757 -0.22000057  0.71672327 -0.11157175 -0.28157426  0.35841282\n",
      " -0.47766384  0.29592338]\n"
     ]
    }
   ],
   "source": [
    "start = time.time()\n",
    "q, r = np.linalg.qr(matrix_nn)\n",
    "x = np.linalg.solve(r, np.dot(q.T, v_nd))\n",
    "end = time.time()\n",
    "print(end -start)\n",
    "print(x.shape)\n",
    "print(x)"
   ]
  }
 ],
 "metadata": {
  "kernelspec": {
   "display_name": "Python 3 (ipykernel)",
   "language": "python",
   "name": "python3"
  },
  "language_info": {
   "codemirror_mode": {
    "name": "ipython",
    "version": 3
   },
   "file_extension": ".py",
   "mimetype": "text/x-python",
   "name": "python",
   "nbconvert_exporter": "python",
   "pygments_lexer": "ipython3",
   "version": "3.11.0"
  }
 },
 "nbformat": 4,
 "nbformat_minor": 5
}
